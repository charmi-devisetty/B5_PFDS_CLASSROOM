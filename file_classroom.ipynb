{
  "nbformat": 4,
  "nbformat_minor": 0,
  "metadata": {
    "colab": {
      "provenance": [],
      "authorship_tag": "ABX9TyPynlb2fzGuv5nwsburFHYv",
      "include_colab_link": true
    },
    "kernelspec": {
      "name": "python3",
      "display_name": "Python 3"
    },
    "language_info": {
      "name": "python"
    }
  },
  "cells": [
    {
      "cell_type": "markdown",
      "metadata": {
        "id": "view-in-github",
        "colab_type": "text"
      },
      "source": [
        "<a href=\"https://colab.research.google.com/github/charmi-devisetty/B5_PFDS_CLASSROOM/blob/main/file_classroom.ipynb\" target=\"_parent\"><img src=\"https://colab.research.google.com/assets/colab-badge.svg\" alt=\"Open In Colab\"/></a>"
      ]
    },
    {
      "cell_type": "markdown",
      "source": [
        "Create a Python script that\n",
        "\n",
        "Takes user input for name and marks\n",
        "\n",
        "Writes it to a file\n",
        "\n",
        "Reads and displays all entries"
      ],
      "metadata": {
        "id": "nClrNv4S4mQ9"
      }
    },
    {
      "cell_type": "code",
      "execution_count": 1,
      "metadata": {
        "id": "LKucC4FO4llz"
      },
      "outputs": [],
      "source": [
        "import csv\n",
        "with open(\"student.csv\",\"w\",newline=\"\") as file:\n",
        "  writer=csv.writer(file)\n",
        "  writer.writerow([\"Name\",\"Marks\"])\n",
        "  writer.writerow([\"Alice\",98])\n",
        "  writer.writerow([\"Bob\",95])"
      ]
    },
    {
      "cell_type": "code",
      "source": [
        "print(\"\\n--- Student Records ---\")\n",
        "with open(\"student.csv\", \"r\") as file:\n",
        "    reader = csv.reader(file)\n",
        "    for row in reader:\n",
        "        print(row)"
      ],
      "metadata": {
        "colab": {
          "base_uri": "https://localhost:8080/"
        },
        "id": "bGmZEVAX54-7",
        "outputId": "01092301-a118-4562-f994-420f2535615a"
      },
      "execution_count": 2,
      "outputs": [
        {
          "output_type": "stream",
          "name": "stdout",
          "text": [
            "\n",
            "--- Student Records ---\n",
            "['Name', 'Marks']\n",
            "['Alice', '98']\n",
            "['Bob', '95']\n"
          ]
        }
      ]
    }
  ]
}