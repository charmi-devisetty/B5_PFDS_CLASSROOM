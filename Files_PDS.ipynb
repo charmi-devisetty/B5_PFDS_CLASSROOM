{
  "nbformat": 4,
  "nbformat_minor": 0,
  "metadata": {
    "colab": {
      "provenance": [],
      "authorship_tag": "ABX9TyNPfvqvlNmdu4Jzcqq/MTAB",
      "include_colab_link": true
    },
    "kernelspec": {
      "name": "python3",
      "display_name": "Python 3"
    },
    "language_info": {
      "name": "python"
    }
  },
  "cells": [
    {
      "cell_type": "markdown",
      "metadata": {
        "id": "view-in-github",
        "colab_type": "text"
      },
      "source": [
        "<a href=\"https://colab.research.google.com/github/charmi-devisetty/B5_PFDS_CLASSROOM/blob/main/Files_PDS.ipynb\" target=\"_parent\"><img src=\"https://colab.research.google.com/assets/colab-badge.svg\" alt=\"Open In Colab\"/></a>"
      ]
    },
    {
      "cell_type": "code",
      "metadata": {
        "id": "963c2e03"
      },
      "source": [
        "with open(\"myexample.txt\", \"w\") as fp:\n",
        "    fp.write(\"This is an example file.\")"
      ],
      "execution_count": 75,
      "outputs": []
    },
    {
      "cell_type": "code",
      "metadata": {
        "colab": {
          "base_uri": "https://localhost:8080/"
        },
        "id": "1dd50ed7",
        "outputId": "caa706c6-0a8e-4680-839b-5150e2e7821d"
      },
      "source": [
        "with open(\"myexample.txt\", \"r\") as fp:\n",
        "    a = fp.read()\n",
        "    print(a)"
      ],
      "execution_count": 76,
      "outputs": [
        {
          "output_type": "stream",
          "name": "stdout",
          "text": [
            "This is an example file.\n"
          ]
        }
      ]
    },
    {
      "cell_type": "code",
      "source": [
        "fp=open(\"myexample.txt\", \"r\")\n",
        "line1=fp.readline()\n",
        "line2=fp.readline()\n",
        "print(line1)\n",
        "print(line2)\n",
        "fp.close()"
      ],
      "metadata": {
        "colab": {
          "base_uri": "https://localhost:8080/"
        },
        "id": "S0ecFDhXq8_-",
        "outputId": "3e058eb8-7b6e-4c5b-c633-8fd082954482"
      },
      "execution_count": 77,
      "outputs": [
        {
          "output_type": "stream",
          "name": "stdout",
          "text": [
            "This is an example file.\n",
            "\n"
          ]
        }
      ]
    },
    {
      "cell_type": "code",
      "source": [
        "fp = open(\"myexample.txt\", \"r\")\n",
        "lines = fp.readlines()\n",
        "print(lines)\n",
        "fp.close()"
      ],
      "metadata": {
        "colab": {
          "base_uri": "https://localhost:8080/"
        },
        "id": "qEfmvDmkrZYL",
        "outputId": "19ac51ac-6e2d-47b1-acf4-15be4bd5f519"
      },
      "execution_count": 78,
      "outputs": [
        {
          "output_type": "stream",
          "name": "stdout",
          "text": [
            "['This is an example file.']\n"
          ]
        }
      ]
    },
    {
      "cell_type": "code",
      "source": [
        "fp=open(\"myexample.txt\",\"a\")\n",
        "fp.write(\"\\nThis is files concept.\")\n",
        "fp.close()"
      ],
      "metadata": {
        "id": "KSJ3012zsU8t"
      },
      "execution_count": 79,
      "outputs": []
    },
    {
      "cell_type": "code",
      "source": [
        "with open(\"myexample.txt\", \"r\") as fp:\n",
        "    a = fp.read()\n",
        "    print(a)"
      ],
      "metadata": {
        "colab": {
          "base_uri": "https://localhost:8080/"
        },
        "id": "GIc0i3dFstcO",
        "outputId": "8753d557-0619-4c77-de35-f074c50f4595"
      },
      "execution_count": 80,
      "outputs": [
        {
          "output_type": "stream",
          "name": "stdout",
          "text": [
            "This is an example file.\n",
            "This is files concept.\n"
          ]
        }
      ]
    },
    {
      "cell_type": "markdown",
      "source": [
        "**FILES**"
      ],
      "metadata": {
        "id": "nvpytib2ueg9"
      }
    },
    {
      "cell_type": "code",
      "source": [
        "file=open(\"myexample1.txt\",\"w\")\n",
        "file.write(\"Hello,Btech students!\\n\")\n",
        "file.write(\"Welcome to the world of Python.\")\n",
        "file.close()\n",
        "print(\"Data written succesfully\")"
      ],
      "metadata": {
        "colab": {
          "base_uri": "https://localhost:8080/"
        },
        "id": "hYPeWkwut1jn",
        "outputId": "193875cb-2bc8-4c65-ecbd-b9b2b3e8f16d"
      },
      "execution_count": 81,
      "outputs": [
        {
          "output_type": "stream",
          "name": "stdout",
          "text": [
            "Data written succesfully\n"
          ]
        }
      ]
    },
    {
      "cell_type": "code",
      "source": [
        "file=open(\"myexample1.txt\",\"r\")\n",
        "content=file.read()\n",
        "print(\"File Content:\\n\",content)\n",
        "file.close()"
      ],
      "metadata": {
        "colab": {
          "base_uri": "https://localhost:8080/"
        },
        "id": "j0BQTTZ8uguU",
        "outputId": "6cd004fd-3c2a-4e77-89d3-965a0b2f7626"
      },
      "execution_count": 82,
      "outputs": [
        {
          "output_type": "stream",
          "name": "stdout",
          "text": [
            "File Content:\n",
            " Hello,Btech students!\n",
            "Welcome to the world of Python.\n"
          ]
        }
      ]
    },
    {
      "cell_type": "code",
      "source": [
        "file=open(\"myexample1.txt\",\"r\")\n",
        "line1=file.readline()\n",
        "line2=file.readline()\n",
        "print(\"First line:\",line1)\n",
        "print(\"Second line:\",line2)"
      ],
      "metadata": {
        "colab": {
          "base_uri": "https://localhost:8080/"
        },
        "id": "DsNFY6dPvW7m",
        "outputId": "e89c256a-6dab-4d6b-c377-1cb22a45f086"
      },
      "execution_count": 83,
      "outputs": [
        {
          "output_type": "stream",
          "name": "stdout",
          "text": [
            "First line: Hello,Btech students!\n",
            "\n",
            "Second line: Welcome to the world of Python.\n"
          ]
        }
      ]
    },
    {
      "cell_type": "code",
      "source": [
        "file=open(\"myexample1.txt\",\"r\")\n",
        "lines=file.readlines()\n",
        "print(\"All lines as List:\",lines)\n",
        "file.close()"
      ],
      "metadata": {
        "colab": {
          "base_uri": "https://localhost:8080/"
        },
        "id": "JVN3KKMswLb6",
        "outputId": "95673b55-5d15-4f69-9605-a0c2aa027584"
      },
      "execution_count": 84,
      "outputs": [
        {
          "output_type": "stream",
          "name": "stdout",
          "text": [
            "All lines as List: ['Hello,Btech students!\\n', 'Welcome to the world of Python.']\n"
          ]
        }
      ]
    },
    {
      "cell_type": "code",
      "source": [
        "file=open(\"myexample1.txt\",\"a\")\n",
        "file.write(\"\\nAppending new data...\\n\")\n",
        "file.close()"
      ],
      "metadata": {
        "id": "aT864IgUxdTG"
      },
      "execution_count": 85,
      "outputs": []
    },
    {
      "cell_type": "code",
      "source": [
        "with open(\"myexample.txt\",\"r\") as file:\n",
        "  data=file.read()\n",
        "  print(data)"
      ],
      "metadata": {
        "colab": {
          "base_uri": "https://localhost:8080/"
        },
        "id": "JYvoi2Mux5ng",
        "outputId": "ea133bfd-124b-47f8-cdaa-aa94c7e89386"
      },
      "execution_count": 86,
      "outputs": [
        {
          "output_type": "stream",
          "name": "stdout",
          "text": [
            "This is an example file.\n",
            "This is files concept.\n"
          ]
        }
      ]
    },
    {
      "cell_type": "markdown",
      "source": [
        "**CSV FILES**"
      ],
      "metadata": {
        "id": "Fucj4SOVye_E"
      }
    },
    {
      "cell_type": "code",
      "source": [
        "import csv\n",
        "with open(\"data.csv\",\"w\",newline=\"\") as file:\n",
        "  writer=csv.writer(file)\n",
        "  writer.writerow([\"Name\",\"Age\",\"Course\"])\n",
        "  writer.writerow([\"Alice\",22,\"CSE\"])\n",
        "  writer.writerow([\"Bob\",20,\"AIML\"])"
      ],
      "metadata": {
        "id": "LswNa4-uyk_M"
      },
      "execution_count": 87,
      "outputs": []
    },
    {
      "cell_type": "code",
      "source": [
        "with open(\"data.csv\",\"r\") as file:\n",
        "  reader=csv.reader(file)\n",
        "  for row in reader:\n",
        "    print(row)"
      ],
      "metadata": {
        "colab": {
          "base_uri": "https://localhost:8080/"
        },
        "id": "Qiwkx7i7zQvE",
        "outputId": "aa30ea39-29f6-42c0-8003-81a6f975b509"
      },
      "execution_count": 89,
      "outputs": [
        {
          "output_type": "stream",
          "name": "stdout",
          "text": [
            "['Name', 'Age', 'Course']\n",
            "['Alice', '22', 'CSE']\n",
            "['Bob', '20', 'AIML']\n"
          ]
        }
      ]
    }
  ]
}