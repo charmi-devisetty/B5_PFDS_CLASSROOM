{
  "nbformat": 4,
  "nbformat_minor": 0,
  "metadata": {
    "colab": {
      "provenance": [],
      "authorship_tag": "ABX9TyMuBrLj/fxzux5bg7+KHZFW",
      "include_colab_link": true
    },
    "kernelspec": {
      "name": "python3",
      "display_name": "Python 3"
    },
    "language_info": {
      "name": "python"
    }
  },
  "cells": [
    {
      "cell_type": "markdown",
      "metadata": {
        "id": "view-in-github",
        "colab_type": "text"
      },
      "source": [
        "<a href=\"https://colab.research.google.com/github/charmi-devisetty/B5_PFDS_CLASSROOM/blob/main/Numpy_classroom.ipynb\" target=\"_parent\"><img src=\"https://colab.research.google.com/assets/colab-badge.svg\" alt=\"Open In Colab\"/></a>"
      ]
    },
    {
      "cell_type": "code",
      "execution_count": null,
      "metadata": {
        "id": "bgXcU0fvuvhI"
      },
      "outputs": [],
      "source": [
        "import numpy as np"
      ]
    },
    {
      "cell_type": "code",
      "source": [
        "a=np.array([1,2,3,4])\n",
        "print(a)"
      ],
      "metadata": {
        "colab": {
          "base_uri": "https://localhost:8080/"
        },
        "id": "Fa52LHyAvaO_",
        "outputId": "200d5cfb-60d8-4017-905d-3c7593168130"
      },
      "execution_count": null,
      "outputs": [
        {
          "output_type": "stream",
          "name": "stdout",
          "text": [
            "[1 2 3 4]\n"
          ]
        }
      ]
    },
    {
      "cell_type": "code",
      "source": [
        "b=np.array([[1,2],[3,4]])\n",
        "print(b)"
      ],
      "metadata": {
        "colab": {
          "base_uri": "https://localhost:8080/"
        },
        "id": "cieUYZq3vgob",
        "outputId": "221b8148-9dc0-416b-c4b0-061fc4b2589a"
      },
      "execution_count": null,
      "outputs": [
        {
          "output_type": "stream",
          "name": "stdout",
          "text": [
            "[[1 2]\n",
            " [3 4]]\n"
          ]
        }
      ]
    },
    {
      "cell_type": "code",
      "source": [
        "c = np.zeros((2, 2))\n",
        "print(c)"
      ],
      "metadata": {
        "colab": {
          "base_uri": "https://localhost:8080/"
        },
        "id": "MsPGZMk5wBXL",
        "outputId": "3694ede6-95d3-4421-ac34-f49f001bc0ac"
      },
      "execution_count": null,
      "outputs": [
        {
          "output_type": "stream",
          "name": "stdout",
          "text": [
            "[[0. 0.]\n",
            " [0. 0.]]\n"
          ]
        }
      ]
    },
    {
      "cell_type": "code",
      "source": [
        "d=np.ones((3,3))\n",
        "print(d)"
      ],
      "metadata": {
        "colab": {
          "base_uri": "https://localhost:8080/"
        },
        "id": "DixTwzRTwXdL",
        "outputId": "56289f20-c7d9-4ee9-ace0-9454092459a6"
      },
      "execution_count": null,
      "outputs": [
        {
          "output_type": "stream",
          "name": "stdout",
          "text": [
            "[[1. 1. 1.]\n",
            " [1. 1. 1.]\n",
            " [1. 1. 1.]]\n"
          ]
        }
      ]
    },
    {
      "cell_type": "code",
      "source": [
        "range_arr=np.arange(0,10,2)\n",
        "print(range_arr)"
      ],
      "metadata": {
        "colab": {
          "base_uri": "https://localhost:8080/"
        },
        "id": "wQoKoKEUwjvU",
        "outputId": "ad6786f0-4d17-47c0-f506-993d230bf879"
      },
      "execution_count": null,
      "outputs": [
        {
          "output_type": "stream",
          "name": "stdout",
          "text": [
            "[0 2 4 6 8]\n"
          ]
        }
      ]
    },
    {
      "cell_type": "code",
      "source": [
        "rand_arr=np.random.rand(3,3)\n",
        "print(rand_arr)"
      ],
      "metadata": {
        "colab": {
          "base_uri": "https://localhost:8080/"
        },
        "id": "9eopvxIcw4tH",
        "outputId": "19f26ac0-01bd-4220-ed18-b8d454e72c7c"
      },
      "execution_count": null,
      "outputs": [
        {
          "output_type": "stream",
          "name": "stdout",
          "text": [
            "[[0.24423299 0.67896124 0.64968243]\n",
            " [0.34437849 0.06796526 0.54682424]\n",
            " [0.73714374 0.80387057 0.62965917]]\n"
          ]
        }
      ]
    },
    {
      "cell_type": "code",
      "source": [
        "a=np.array([[1,2,3],[4,5,6]])\n",
        "print(a.shape)\n",
        "print(a.ndim)\n",
        "print(a.dtype)\n",
        "print(a.size)\n",
        "print(a.itemsize)"
      ],
      "metadata": {
        "colab": {
          "base_uri": "https://localhost:8080/"
        },
        "id": "PnwHmvYexCbh",
        "outputId": "28e4362f-93a4-4400-b1bb-80653ce3965c"
      },
      "execution_count": null,
      "outputs": [
        {
          "output_type": "stream",
          "name": "stdout",
          "text": [
            "(2, 3)\n",
            "2\n",
            "int64\n",
            "6\n",
            "8\n"
          ]
        }
      ]
    },
    {
      "cell_type": "code",
      "source": [
        "arr=np.array([10,20,30,40,50])\n",
        "print(\"first ele\",arr[0])\n",
        "print(\"second ele\",arr[1])\n",
        "print(\"last ele\",arr[-1])\n",
        "print(\"slice[1:4]:\",arr[1:4])\n",
        "print(\"every second ele\",arr[::2])"
      ],
      "metadata": {
        "colab": {
          "base_uri": "https://localhost:8080/"
        },
        "id": "qjYB8r7k0Idu",
        "outputId": "2efd9c4d-4c26-468d-8f9d-cae44cf7ad6e"
      },
      "execution_count": null,
      "outputs": [
        {
          "output_type": "stream",
          "name": "stdout",
          "text": [
            "first ele 10\n",
            "second ele 20\n",
            "last ele 50\n",
            "slice[1:4]: [20 30 40]\n",
            "every second ele [10 30 50]\n"
          ]
        }
      ]
    },
    {
      "cell_type": "code",
      "source": [
        "c=np.array([[1,2,3,4,5]])\n",
        "print(c)"
      ],
      "metadata": {
        "colab": {
          "base_uri": "https://localhost:8080/"
        },
        "id": "LdvchPvWymxq",
        "outputId": "304987ea-7293-4428-9a6a-4472bf0c3f94"
      },
      "execution_count": null,
      "outputs": [
        {
          "output_type": "stream",
          "name": "stdout",
          "text": [
            "[[1 2 3 4 5]]\n"
          ]
        }
      ]
    },
    {
      "cell_type": "code",
      "source": [
        "d=np.array([[1,2,3],[4,5,6]])\n",
        "e=np.array([[3,4,5],[2,1,7]])\n",
        "print(d)\n",
        "print(e)\n"
      ],
      "metadata": {
        "colab": {
          "base_uri": "https://localhost:8080/"
        },
        "id": "MIB91ZNzzpCc",
        "outputId": "4a41d429-06a4-47b3-8dcc-44112c1597f6"
      },
      "execution_count": null,
      "outputs": [
        {
          "output_type": "stream",
          "name": "stdout",
          "text": [
            "[[1 2 3]\n",
            " [4 5 6]]\n",
            "[[3 4 5]\n",
            " [2 1 7]]\n"
          ]
        }
      ]
    },
    {
      "cell_type": "code",
      "source": [
        "print(d+e)\n",
        "print(d-e)\n",
        "print(d*e)\n",
        "print(d/e)\n",
        "print(d**2)"
      ],
      "metadata": {
        "colab": {
          "base_uri": "https://localhost:8080/"
        },
        "id": "kmm2P5-R0D0V",
        "outputId": "c090168b-002c-4b4c-9805-8882bceed9eb"
      },
      "execution_count": null,
      "outputs": [
        {
          "output_type": "stream",
          "name": "stdout",
          "text": [
            "[[ 4  6  8]\n",
            " [ 6  6 13]]\n",
            "[[-2 -2 -2]\n",
            " [ 2  4 -1]]\n",
            "[[ 3  8 15]\n",
            " [ 8  5 42]]\n",
            "[[0.33333333 0.5        0.6       ]\n",
            " [2.         5.         0.85714286]]\n",
            "[[ 1  4  9]\n",
            " [16 25 36]]\n"
          ]
        }
      ]
    },
    {
      "cell_type": "code",
      "source": [
        "f=np.array([[1,2,3],[4,5,6],[7,8,9]])\n",
        "print(f)\n"
      ],
      "metadata": {
        "colab": {
          "base_uri": "https://localhost:8080/"
        },
        "id": "_PbqSAwf0eNA",
        "outputId": "12894c00-9546-486a-f150-358ad13acc54"
      },
      "execution_count": null,
      "outputs": [
        {
          "output_type": "stream",
          "name": "stdout",
          "text": [
            "[[1 2 3]\n",
            " [4 5 6]\n",
            " [7 8 9]]\n"
          ]
        }
      ]
    },
    {
      "cell_type": "code",
      "source": [
        "arr=np.array([[1,1,1],[2,3,4]])\n",
        "print(\"sum:\",np.sum(arr))\n",
        "print(\"Max:\",np.max(arr))\n",
        "print(\"min:\",np.min(arr))\n",
        "print(\"Mean:\",np.mean(arr))\n",
        "print(\"Standard deviation:\",np.std(arr))\n",
        "print(\"Sum along axis 0:\",np.sum(arr,axis=0))"
      ],
      "metadata": {
        "colab": {
          "base_uri": "https://localhost:8080/"
        },
        "id": "CkbIMD_w0tqb",
        "outputId": "56eed5e2-8d55-44cd-c27e-8b814e5af669"
      },
      "execution_count": 22,
      "outputs": [
        {
          "output_type": "stream",
          "name": "stdout",
          "text": [
            "sum: 12\n",
            "Max: 4\n",
            "min: 1\n",
            "Mean: 2.0\n",
            "Standard deviation: 1.1547005383792515\n",
            "Sum along axis 0: [3 4 5]\n"
          ]
        }
      ]
    },
    {
      "cell_type": "code",
      "source": [
        "a=np.array([1,2,3])\n",
        "b=5\n",
        "print(a+b)"
      ],
      "metadata": {
        "colab": {
          "base_uri": "https://localhost:8080/"
        },
        "id": "Q7zO2st71urr",
        "outputId": "7bebba3c-ab59-47f6-908d-b412942b31b8"
      },
      "execution_count": null,
      "outputs": [
        {
          "output_type": "stream",
          "name": "stdout",
          "text": [
            "[6 7 8]\n"
          ]
        }
      ]
    },
    {
      "cell_type": "code",
      "source": [
        "c=np.array([[1,2,3],[4,5,6]])\n",
        "d=np.array([1,2,3])\n",
        "print(c+d)"
      ],
      "metadata": {
        "id": "SKQoYyRY120t",
        "outputId": "dd5ed7c3-a054-4345-f6a8-bb8425489d7b",
        "colab": {
          "base_uri": "https://localhost:8080/"
        }
      },
      "execution_count": null,
      "outputs": [
        {
          "output_type": "stream",
          "name": "stdout",
          "text": [
            "[[2 4 6]\n",
            " [5 7 9]]\n"
          ]
        }
      ]
    }
  ]
}