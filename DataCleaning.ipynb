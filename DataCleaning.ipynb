{
  "nbformat": 4,
  "nbformat_minor": 0,
  "metadata": {
    "colab": {
      "provenance": [],
      "authorship_tag": "ABX9TyMacMpwhfhGwB97TqLIfk6a",
      "include_colab_link": true
    },
    "kernelspec": {
      "name": "python3",
      "display_name": "Python 3"
    },
    "language_info": {
      "name": "python"
    }
  },
  "cells": [
    {
      "cell_type": "markdown",
      "metadata": {
        "id": "view-in-github",
        "colab_type": "text"
      },
      "source": [
        "<a href=\"https://colab.research.google.com/github/charmi-devisetty/B5_PFDS_CLASSROOM/blob/main/DataCleaning.ipynb\" target=\"_parent\"><img src=\"https://colab.research.google.com/assets/colab-badge.svg\" alt=\"Open In Colab\"/></a>"
      ]
    },
    {
      "cell_type": "code",
      "execution_count": 112,
      "metadata": {
        "id": "VQ70YLWuAsty"
      },
      "outputs": [],
      "source": [
        "import pandas as pd\n",
        "import numpy as np"
      ]
    },
    {
      "cell_type": "code",
      "source": [
        "data={\n",
        "    'Name':['Ravi','Neha','Kiran','Sita'],\n",
        "    'Age':[25,np.nan,30,28],\n",
        "    'Marks':[85,90,np.nan,92]\n",
        "}\n",
        "df=pd.DataFrame(data)\n",
        "print(\"Original DataFrame:\")\n",
        "print(df)"
      ],
      "metadata": {
        "colab": {
          "base_uri": "https://localhost:8080/"
        },
        "id": "FOvKiG6aBALL",
        "outputId": "dcce34f4-d875-45ee-d8fa-1b6e8def5ef7"
      },
      "execution_count": 113,
      "outputs": [
        {
          "output_type": "stream",
          "name": "stdout",
          "text": [
            "Original DataFrame:\n",
            "    Name   Age  Marks\n",
            "0   Ravi  25.0   85.0\n",
            "1   Neha   NaN   90.0\n",
            "2  Kiran  30.0    NaN\n",
            "3   Sita  28.0   92.0\n"
          ]
        }
      ]
    },
    {
      "cell_type": "code",
      "source": [
        "print(\"\\nCheck for missing values:\")\n",
        "print(df.isnull())"
      ],
      "metadata": {
        "colab": {
          "base_uri": "https://localhost:8080/"
        },
        "id": "pylqa7ceBZ_j",
        "outputId": "04733b2c-6bb9-42cd-eaec-b0abfae02192"
      },
      "execution_count": 114,
      "outputs": [
        {
          "output_type": "stream",
          "name": "stdout",
          "text": [
            "\n",
            "Check for missing values:\n",
            "    Name    Age  Marks\n",
            "0  False  False  False\n",
            "1  False   True  False\n",
            "2  False  False   True\n",
            "3  False  False  False\n"
          ]
        }
      ]
    },
    {
      "cell_type": "code",
      "source": [
        "df_dropped=df.dropna()\n",
        "print(\"\\nDataFrame after dropping missing values:\")\n",
        "print(df_dropped)"
      ],
      "metadata": {
        "colab": {
          "base_uri": "https://localhost:8080/"
        },
        "id": "w-utGFP9ByLH",
        "outputId": "82cc459a-b7d1-467e-8677-46e993c595a3"
      },
      "execution_count": 115,
      "outputs": [
        {
          "output_type": "stream",
          "name": "stdout",
          "text": [
            "\n",
            "DataFrame after dropping missing values:\n",
            "   Name   Age  Marks\n",
            "0  Ravi  25.0   85.0\n",
            "3  Sita  28.0   92.0\n"
          ]
        }
      ]
    },
    {
      "cell_type": "code",
      "source": [
        "df_filled=df.fillna(0)\n",
        "print(\"\\nDataFrame after filling missing values:\")\n",
        "print(df_filled)"
      ],
      "metadata": {
        "id": "xU7wZlp8BvMA",
        "colab": {
          "base_uri": "https://localhost:8080/"
        },
        "outputId": "7d4c90ef-206f-4b09-ecb3-bc704491945a"
      },
      "execution_count": 116,
      "outputs": [
        {
          "output_type": "stream",
          "name": "stdout",
          "text": [
            "\n",
            "DataFrame after filling missing values:\n",
            "    Name   Age  Marks\n",
            "0   Ravi  25.0   85.0\n",
            "1   Neha   0.0   90.0\n",
            "2  Kiran  30.0    0.0\n",
            "3   Sita  28.0   92.0\n"
          ]
        }
      ]
    },
    {
      "cell_type": "code",
      "source": [
        "df['Age'] = df['Age'].fillna(df['Age'].mean())\n",
        "df['Marks'] = df['Marks'].fillna(df['Marks'].mean())\n",
        "print(\"\\nFilled with mean:\")\n",
        "print(df)"
      ],
      "metadata": {
        "colab": {
          "base_uri": "https://localhost:8080/"
        },
        "id": "eXnCE2nmCNxu",
        "outputId": "c40dd329-31c7-4c22-b3f7-ddc23f2c49d5"
      },
      "execution_count": 117,
      "outputs": [
        {
          "output_type": "stream",
          "name": "stdout",
          "text": [
            "\n",
            "Filled with mean:\n",
            "    Name        Age  Marks\n",
            "0   Ravi  25.000000   85.0\n",
            "1   Neha  27.666667   90.0\n",
            "2  Kiran  30.000000   89.0\n",
            "3   Sita  28.000000   92.0\n"
          ]
        }
      ]
    },
    {
      "cell_type": "code",
      "source": [
        "data={\n",
        "    'ID':[1,2,2,3,4,4],\n",
        "    'Name':['Ravi','Neha','Neha','Kiran','Sita','Sita'],\n",
        "    'Marks':[25,28,28,30,25,25]\n",
        "}\n",
        "df=pd.DataFrame(data)\n",
        "print(\"Original DataFrame:\")\n",
        "print(df)"
      ],
      "metadata": {
        "colab": {
          "base_uri": "https://localhost:8080/"
        },
        "id": "qoiAVxWsFfq1",
        "outputId": "b07bcddf-b6e8-4163-e1d0-b9e2954d2b0e"
      },
      "execution_count": 118,
      "outputs": [
        {
          "output_type": "stream",
          "name": "stdout",
          "text": [
            "Original DataFrame:\n",
            "   ID   Name  Marks\n",
            "0   1   Ravi     25\n",
            "1   2   Neha     28\n",
            "2   2   Neha     28\n",
            "3   3  Kiran     30\n",
            "4   4   Sita     25\n",
            "5   4   Sita     25\n"
          ]
        }
      ]
    },
    {
      "cell_type": "code",
      "source": [
        "drop_duplicates=df.drop_duplicates()\n",
        "print(\"\\nDataFrame after dropping duplicates:\")\n",
        "print(drop_duplicates)"
      ],
      "metadata": {
        "colab": {
          "base_uri": "https://localhost:8080/"
        },
        "id": "GN5qt5ZFCiar",
        "outputId": "1f652c1a-012b-41aa-895d-7f9e0ace7458"
      },
      "execution_count": 119,
      "outputs": [
        {
          "output_type": "stream",
          "name": "stdout",
          "text": [
            "\n",
            "DataFrame after dropping duplicates:\n",
            "   ID   Name  Marks\n",
            "0   1   Ravi     25\n",
            "1   2   Neha     28\n",
            "3   3  Kiran     30\n",
            "4   4   Sita     25\n"
          ]
        }
      ]
    },
    {
      "cell_type": "code",
      "source": [
        "data={\n",
        "    'ID':['1','2','3','4'],\n",
        "    'Marks':['85','90','78','92']\n",
        "    }"
      ],
      "metadata": {
        "id": "JU_qHbU6DKu3"
      },
      "execution_count": 120,
      "outputs": []
    },
    {
      "cell_type": "code",
      "source": [
        "df=pd.DataFrame(data)\n",
        "print(\"Original Data Types:\")\n",
        "print(df.dtypes)"
      ],
      "metadata": {
        "colab": {
          "base_uri": "https://localhost:8080/"
        },
        "id": "xPtoT_lHCzsc",
        "outputId": "3d1cb5f7-5712-4720-b3f1-25e21635f49f"
      },
      "execution_count": 121,
      "outputs": [
        {
          "output_type": "stream",
          "name": "stdout",
          "text": [
            "Original Data Types:\n",
            "ID       object\n",
            "Marks    object\n",
            "dtype: object\n"
          ]
        }
      ]
    },
    {
      "cell_type": "code",
      "source": [
        "df['ID']=pd.to_numeric(df['ID'])\n",
        "df['Marks']=pd.to_numeric(df['Marks'])\n",
        "print(\"\\nData Types after conversion:\")\n",
        "print(df.dtypes)"
      ],
      "metadata": {
        "colab": {
          "base_uri": "https://localhost:8080/"
        },
        "id": "nsvWmg00C6jQ",
        "outputId": "d1603914-a8ea-4913-b5b2-2e9dd1ce8d2d"
      },
      "execution_count": 122,
      "outputs": [
        {
          "output_type": "stream",
          "name": "stdout",
          "text": [
            "\n",
            "Data Types after conversion:\n",
            "ID       int64\n",
            "Marks    int64\n",
            "dtype: object\n"
          ]
        }
      ]
    },
    {
      "cell_type": "code",
      "source": [
        "df['Marks']=df['Marks'].apply(lambda x:x+5)\n",
        "print(\"\\nAfter adding bonus marks:\")\n",
        "print(df)"
      ],
      "metadata": {
        "colab": {
          "base_uri": "https://localhost:8080/"
        },
        "id": "v1cScgdxD2Te",
        "outputId": "0ae92e94-f7db-4022-e16c-6b587d955362"
      },
      "execution_count": 125,
      "outputs": [
        {
          "output_type": "stream",
          "name": "stdout",
          "text": [
            "\n",
            "After adding bonus marks:\n",
            "   ID  Marks  Marks_Normalized\n",
            "0   1     95        -82.927835\n",
            "1   2    100        -82.876289\n",
            "2   3     88        -83.000000\n",
            "3   4    102        -82.855670\n"
          ]
        }
      ]
    },
    {
      "cell_type": "code",
      "source": [
        "df['Marks_Normalized']=((df['Marks']-df['Marks'].min())/df['Marks'].max()-df['Marks'].min())\n",
        "print(\"Normalized Marks:\")\n",
        "print(df)"
      ],
      "metadata": {
        "colab": {
          "base_uri": "https://localhost:8080/"
        },
        "id": "pDqAT3uPE0cx",
        "outputId": "32e8e5ad-7bcb-4720-f92d-b08b974d427a"
      },
      "execution_count": 127,
      "outputs": [
        {
          "output_type": "stream",
          "name": "stdout",
          "text": [
            "Normalized Marks:\n",
            "   ID  Marks  Marks_Normalized\n",
            "0   1     95        -87.931373\n",
            "1   2    100        -87.882353\n",
            "2   3     88        -88.000000\n",
            "3   4    102        -87.862745\n"
          ]
        }
      ]
    }
  ]
}