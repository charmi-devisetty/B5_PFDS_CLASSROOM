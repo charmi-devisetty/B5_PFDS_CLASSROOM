{
  "nbformat": 4,
  "nbformat_minor": 0,
  "metadata": {
    "colab": {
      "provenance": [],
      "authorship_tag": "ABX9TyOKb98BBNZUbKUG808ykSw3",
      "include_colab_link": true
    },
    "kernelspec": {
      "name": "python3",
      "display_name": "Python 3"
    },
    "language_info": {
      "name": "python"
    }
  },
  "cells": [
    {
      "cell_type": "markdown",
      "metadata": {
        "id": "view-in-github",
        "colab_type": "text"
      },
      "source": [
        "<a href=\"https://colab.research.google.com/github/charmi-devisetty/B5_PFDS_CLASSROOM/blob/main/PDS_TimeSeries.ipynb\" target=\"_parent\"><img src=\"https://colab.research.google.com/assets/colab-badge.svg\" alt=\"Open In Colab\"/></a>"
      ]
    },
    {
      "cell_type": "code",
      "execution_count": null,
      "metadata": {
        "colab": {
          "base_uri": "https://localhost:8080/"
        },
        "id": "NdyipkUP3kXU",
        "outputId": "99ad35e7-e9fd-426c-c5c4-882bff469964"
      },
      "outputs": [
        {
          "output_type": "stream",
          "name": "stdout",
          "text": [
            "2025-08-22 10:30:00\n"
          ]
        }
      ],
      "source": [
        "from datetime import datetime\n",
        "df=datetime(2025,8,22,10,30,0)\n",
        "print(df)"
      ]
    },
    {
      "cell_type": "code",
      "source": [
        "import pandas as pd\n",
        "date_str=['2025-08-22','2025-08-23','2025-08-24']\n",
        "dates=pd.to_datetime(date_str)\n",
        "print(dates)"
      ],
      "metadata": {
        "colab": {
          "base_uri": "https://localhost:8080/"
        },
        "id": "zlD_3zIp4zA_",
        "outputId": "7867ffa9-a20e-4e70-9c13-1d84e7006d5f"
      },
      "execution_count": null,
      "outputs": [
        {
          "output_type": "stream",
          "name": "stdout",
          "text": [
            "DatetimeIndex(['2025-08-22', '2025-08-23', '2025-08-24'], dtype='datetime64[ns]', freq=None)\n"
          ]
        }
      ]
    },
    {
      "cell_type": "code",
      "source": [
        "ts = pd.to_datetime(\"2025-08-22 15:45:30\")\n",
        "print(ts.year) # 2025\n",
        "print(ts.month) # 8\n",
        "print(ts.day) # 22\n",
        "print(ts.weekday()) # 4 (Friday)\n",
        "print(ts.hour)"
      ],
      "metadata": {
        "colab": {
          "base_uri": "https://localhost:8080/"
        },
        "id": "qnjUMjkT5Gmb",
        "outputId": "6642d248-b982-4f54-8962-512739836b4b"
      },
      "execution_count": null,
      "outputs": [
        {
          "output_type": "stream",
          "name": "stdout",
          "text": [
            "2025\n",
            "8\n",
            "22\n",
            "4\n",
            "15\n"
          ]
        }
      ]
    },
    {
      "cell_type": "code",
      "source": [
        "pd.date_range(start='2025-01-01', periods=5,\n",
        "freq='D')"
      ],
      "metadata": {
        "colab": {
          "base_uri": "https://localhost:8080/"
        },
        "id": "Rh9D6gOZ5V2Y",
        "outputId": "0d258a7a-ede0-4102-9017-b82ced826ed5"
      },
      "execution_count": null,
      "outputs": [
        {
          "output_type": "execute_result",
          "data": {
            "text/plain": [
              "DatetimeIndex(['2025-01-01', '2025-01-02', '2025-01-03', '2025-01-04',\n",
              "               '2025-01-05'],\n",
              "              dtype='datetime64[ns]', freq='D')"
            ]
          },
          "metadata": {},
          "execution_count": 4
        }
      ]
    },
    {
      "cell_type": "code",
      "source": [
        "import pandas as pd\n",
        "import numpy as np\n",
        "dates=pd.date_range('2025-01-01',periods=6,freq='D')\n",
        "ts=pd.Series(np.random.randint(6),index=dates)\n",
        "print(ts)"
      ],
      "metadata": {
        "id": "FVKj8zKw5RqC",
        "colab": {
          "base_uri": "https://localhost:8080/"
        },
        "outputId": "bdbb8d90-eda8-49a9-fdaf-17f98e78f01c"
      },
      "execution_count": 6,
      "outputs": [
        {
          "output_type": "stream",
          "name": "stdout",
          "text": [
            "2025-01-01    5\n",
            "2025-01-02    5\n",
            "2025-01-03    5\n",
            "2025-01-04    5\n",
            "2025-01-05    5\n",
            "2025-01-06    5\n",
            "Freq: D, dtype: int64\n"
          ]
        }
      ]
    },
    {
      "cell_type": "code",
      "source": [
        "print(ts[\"2025-01\"])"
      ],
      "metadata": {
        "colab": {
          "base_uri": "https://localhost:8080/"
        },
        "id": "as9PEndq6ftm",
        "outputId": "bbe51d2d-a49b-4c2f-aed9-12a63b98e86b"
      },
      "execution_count": 7,
      "outputs": [
        {
          "output_type": "stream",
          "name": "stdout",
          "text": [
            "2025-01-01    5\n",
            "2025-01-02    5\n",
            "2025-01-03    5\n",
            "2025-01-04    5\n",
            "2025-01-05    5\n",
            "2025-01-06    5\n",
            "Freq: D, dtype: int64\n"
          ]
        }
      ]
    },
    {
      "cell_type": "code",
      "source": [
        "ts=pd.Series(np.random.randint(10),index=pd.date_range('2025-01-01',periods=5,freq='D'))\n",
        "print(ts)"
      ],
      "metadata": {
        "colab": {
          "base_uri": "https://localhost:8080/"
        },
        "id": "D8iRXjGZ7EYr",
        "outputId": "b4c7ee2f-4e4d-4220-9ecc-ebead5761fc2"
      },
      "execution_count": 8,
      "outputs": [
        {
          "output_type": "stream",
          "name": "stdout",
          "text": [
            "2025-01-01    2\n",
            "2025-01-02    2\n",
            "2025-01-03    2\n",
            "2025-01-04    2\n",
            "2025-01-05    2\n",
            "Freq: D, dtype: int64\n"
          ]
        }
      ]
    },
    {
      "cell_type": "code",
      "source": [
        "monthly=ts.resample('ME').mean()\n",
        "print(monthly)"
      ],
      "metadata": {
        "colab": {
          "base_uri": "https://localhost:8080/"
        },
        "id": "jfwy86IB7USC",
        "outputId": "73e4d85b-6efe-467a-e61a-6f62ffcb5a72"
      },
      "execution_count": 9,
      "outputs": [
        {
          "output_type": "stream",
          "name": "stdout",
          "text": [
            "2025-01-31    2.0\n",
            "Freq: ME, dtype: float64\n"
          ]
        }
      ]
    },
    {
      "cell_type": "code",
      "source": [
        "print(ts.shift(1))\n",
        "print(ts.shift(-1))"
      ],
      "metadata": {
        "colab": {
          "base_uri": "https://localhost:8080/"
        },
        "id": "QOPiqDam7cAM",
        "outputId": "6d2aec9d-4fb8-461b-9e07-3bc159977576"
      },
      "execution_count": 10,
      "outputs": [
        {
          "output_type": "stream",
          "name": "stdout",
          "text": [
            "2025-01-01    NaN\n",
            "2025-01-02    2.0\n",
            "2025-01-03    2.0\n",
            "2025-01-04    2.0\n",
            "2025-01-05    2.0\n",
            "Freq: D, dtype: float64\n",
            "2025-01-01    2.0\n",
            "2025-01-02    2.0\n",
            "2025-01-03    2.0\n",
            "2025-01-04    2.0\n",
            "2025-01-05    NaN\n",
            "Freq: D, dtype: float64\n"
          ]
        }
      ]
    },
    {
      "cell_type": "code",
      "source": [
        "print(ts.rolling(window=3).mean())"
      ],
      "metadata": {
        "colab": {
          "base_uri": "https://localhost:8080/"
        },
        "id": "pszTkq8B7i89",
        "outputId": "28f9f9c8-b35a-4acf-f4df-e6fc78daeeb3"
      },
      "execution_count": 11,
      "outputs": [
        {
          "output_type": "stream",
          "name": "stdout",
          "text": [
            "2025-01-01    NaN\n",
            "2025-01-02    NaN\n",
            "2025-01-03    2.0\n",
            "2025-01-04    2.0\n",
            "2025-01-05    2.0\n",
            "Freq: D, dtype: float64\n"
          ]
        }
      ]
    }
  ]
}