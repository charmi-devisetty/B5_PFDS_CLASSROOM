{
  "nbformat": 4,
  "nbformat_minor": 0,
  "metadata": {
    "colab": {
      "provenance": [],
      "authorship_tag": "ABX9TyPANADKDDP+Ci4MQiFFmrSw",
      "include_colab_link": true
    },
    "kernelspec": {
      "name": "python3",
      "display_name": "Python 3"
    },
    "language_info": {
      "name": "python"
    }
  },
  "cells": [
    {
      "cell_type": "markdown",
      "metadata": {
        "id": "view-in-github",
        "colab_type": "text"
      },
      "source": [
        "<a href=\"https://colab.research.google.com/github/charmi-devisetty/B5_PFDS_CLASSROOM/blob/main/Merge_Join_PDS.ipynb\" target=\"_parent\"><img src=\"https://colab.research.google.com/assets/colab-badge.svg\" alt=\"Open In Colab\"/></a>"
      ]
    },
    {
      "cell_type": "code",
      "execution_count": 80,
      "metadata": {
        "id": "oOV3cBx7R7kt"
      },
      "outputs": [],
      "source": [
        "import pandas as pd"
      ]
    },
    {
      "cell_type": "code",
      "source": [
        "students=pd.DataFrame({\n",
        "    'Student_ID':[101,102,103,104],\n",
        "    'Name':['Ravi','Neha','Kiran','Sita']\n",
        "})"
      ],
      "metadata": {
        "id": "0vcLBLM1SDw8"
      },
      "execution_count": 81,
      "outputs": []
    },
    {
      "cell_type": "code",
      "source": [
        "marks=pd.DataFrame({\n",
        "    'Student_ID':[101,102,103,105],\n",
        "    'Marks':[85,90,78,88]\n",
        "})"
      ],
      "metadata": {
        "id": "NgC4MYIqSXYk"
      },
      "execution_count": 82,
      "outputs": []
    },
    {
      "cell_type": "code",
      "source": [
        "merged_df=pd.merge(students,marks,on='Student_ID')"
      ],
      "metadata": {
        "id": "K4gRP-ckSoz7"
      },
      "execution_count": 83,
      "outputs": []
    },
    {
      "cell_type": "code",
      "source": [
        "print(\"Merged DataFrames:\")\n",
        "print(merged_df)"
      ],
      "metadata": {
        "colab": {
          "base_uri": "https://localhost:8080/"
        },
        "id": "F-41zDgJSyPy",
        "outputId": "6b8cb1a9-04fb-45ad-c4c9-77a6d987dcf0"
      },
      "execution_count": 84,
      "outputs": [
        {
          "output_type": "stream",
          "name": "stdout",
          "text": [
            "Merged DataFrames:\n",
            "   Student_ID   Name  Marks\n",
            "0         101   Ravi     85\n",
            "1         102   Neha     90\n",
            "2         103  Kiran     78\n"
          ]
        }
      ]
    },
    {
      "cell_type": "markdown",
      "source": [
        "**JOINS**"
      ],
      "metadata": {
        "id": "RdOB0lPZTjlW"
      }
    },
    {
      "cell_type": "code",
      "source": [
        "inner=pd.merge(students,marks,left_on='Student_ID',right_on='Student_ID',how='inner')\n",
        "print(\"Inner Join:\")\n",
        "print(inner)"
      ],
      "metadata": {
        "colab": {
          "base_uri": "https://localhost:8080/"
        },
        "id": "Ay3qkBJrTDgn",
        "outputId": "28cc5745-69c9-4b34-95e2-03c280e4770c"
      },
      "execution_count": 85,
      "outputs": [
        {
          "output_type": "stream",
          "name": "stdout",
          "text": [
            "Inner Join:\n",
            "   Student_ID   Name  Marks\n",
            "0         101   Ravi     85\n",
            "1         102   Neha     90\n",
            "2         103  Kiran     78\n"
          ]
        }
      ]
    },
    {
      "cell_type": "code",
      "source": [
        "left=pd.merge(students,marks,on='Student_ID',how='left')\n",
        "print(\"Left Join:\")\n",
        "print(left)"
      ],
      "metadata": {
        "colab": {
          "base_uri": "https://localhost:8080/"
        },
        "id": "9M_POAhiUBBr",
        "outputId": "14930dc5-631c-435a-c17d-77ebf6d54129"
      },
      "execution_count": 86,
      "outputs": [
        {
          "output_type": "stream",
          "name": "stdout",
          "text": [
            "Left Join:\n",
            "   Student_ID   Name  Marks\n",
            "0         101   Ravi   85.0\n",
            "1         102   Neha   90.0\n",
            "2         103  Kiran   78.0\n",
            "3         104   Sita    NaN\n"
          ]
        }
      ]
    },
    {
      "cell_type": "code",
      "source": [
        "right=pd.merge(students,marks,on='Student_ID',how='right')\n",
        "print(\"Right Join:\")\n",
        "print(right)"
      ],
      "metadata": {
        "colab": {
          "base_uri": "https://localhost:8080/"
        },
        "id": "3OnF_jxqUF5u",
        "outputId": "c706a386-3c3d-406c-baa0-33cbfe0faa07"
      },
      "execution_count": 87,
      "outputs": [
        {
          "output_type": "stream",
          "name": "stdout",
          "text": [
            "Right Join:\n",
            "   Student_ID   Name  Marks\n",
            "0         101   Ravi     85\n",
            "1         102   Neha     90\n",
            "2         103  Kiran     78\n",
            "3         105    NaN     88\n"
          ]
        }
      ]
    },
    {
      "cell_type": "code",
      "source": [
        "outer=pd.merge(students,marks,on='Student_ID',how='outer')\n",
        "print(\"Outer Join:\")\n",
        "print(outer)"
      ],
      "metadata": {
        "colab": {
          "base_uri": "https://localhost:8080/"
        },
        "id": "HMMxPDG1V3Yb",
        "outputId": "e29ca325-cd87-4e92-cce4-0ea5a14ceb32"
      },
      "execution_count": 88,
      "outputs": [
        {
          "output_type": "stream",
          "name": "stdout",
          "text": [
            "Outer Join:\n",
            "   Student_ID   Name  Marks\n",
            "0         101   Ravi   85.0\n",
            "1         102   Neha   90.0\n",
            "2         103  Kiran   78.0\n",
            "3         104   Sita    NaN\n",
            "4         105    NaN   88.0\n"
          ]
        }
      ]
    },
    {
      "cell_type": "code",
      "source": [
        "students=pd.DataFrame({\n",
        "    'Name':['Ravi','Neha','Kiran','Sita']\n",
        "})\n",
        "students.index=[101,102,103,104]"
      ],
      "metadata": {
        "id": "vdTTGnTxWgEY"
      },
      "execution_count": 92,
      "outputs": []
    },
    {
      "cell_type": "code",
      "source": [
        "marks=pd.DataFrame({\n",
        "    'Marks':[85,90,78,88]\n",
        "})\n",
        "marks.index=[101,102,103,105]"
      ],
      "metadata": {
        "id": "pHtmxyj2XL3Q"
      },
      "execution_count": 93,
      "outputs": []
    },
    {
      "cell_type": "code",
      "source": [
        "joined_df=students.join(marks,how='outer')\n",
        "print(\"Joined DataFrame:\")\n",
        "print(joined_df)"
      ],
      "metadata": {
        "colab": {
          "base_uri": "https://localhost:8080/"
        },
        "id": "UwXgWePOXP18",
        "outputId": "cae9ffb0-58a6-4d0f-fe28-7ddf9c17a9a7"
      },
      "execution_count": 96,
      "outputs": [
        {
          "output_type": "stream",
          "name": "stdout",
          "text": [
            "Joined DataFrame:\n",
            "      Name  Marks\n",
            "101   Ravi   85.0\n",
            "102   Neha   90.0\n",
            "103  Kiran   78.0\n",
            "104   Sita    NaN\n",
            "105    NaN   88.0\n"
          ]
        }
      ]
    },
    {
      "cell_type": "code",
      "source": [
        "students=pd.DataFrame({\n",
        "    'Student_ID':[101,102,103,104],\n",
        "    'Name':['Ravi','Neha','Kiran','Sita'],\n",
        "    'Department':['CSE','ECE','MECH','CSE']\n",
        "})\n",
        "marks=pd.DataFrame({\n",
        "    'Student_ID':[101,102,104,105],\n",
        "    'Marks':[85,90,92,88]\n",
        "})\n",
        "final_df=pd.merge(students,marks,on='Student_ID',how='outer')\n",
        "print(\"Final Student records:\")\n",
        "print(final_df)"
      ],
      "metadata": {
        "colab": {
          "base_uri": "https://localhost:8080/"
        },
        "id": "sVoCDYaVXzPo",
        "outputId": "13e22a80-f5f2-4cf3-81ee-340a8f8d2f6a"
      },
      "execution_count": 97,
      "outputs": [
        {
          "output_type": "stream",
          "name": "stdout",
          "text": [
            "Final Student records:\n",
            "   Student_ID   Name Department  Marks\n",
            "0         101   Ravi        CSE   85.0\n",
            "1         102   Neha        ECE   90.0\n",
            "2         103  Kiran       MECH    NaN\n",
            "3         104   Sita        CSE   92.0\n",
            "4         105    NaN        NaN   88.0\n"
          ]
        }
      ]
    }
  ]
}